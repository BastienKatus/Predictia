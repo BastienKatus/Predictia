{
 "cells": [
  {
   "cell_type": "markdown",
   "id": "36cd22fe-0bbc-4fe8-a5c1-f8a423556f07",
   "metadata": {},
   "source": [
    "CONFIGURATION"
   ]
  },
  {
   "cell_type": "code",
   "execution_count": 1,
   "id": "b4b8074e-c295-4b98-9465-1158fd2a1eea",
   "metadata": {},
   "outputs": [
    {
     "name": "stdout",
     "output_type": "stream",
     "text": [
      "Requirement already satisfied: numpy in d:\\downloads\\cpe\\semestre9\\projet\\predictia\\data\\predictia_env\\lib\\site-packages (1.26.3)\n",
      "Requirement already satisfied: pandas in d:\\downloads\\cpe\\semestre9\\projet\\predictia\\data\\predictia_env\\lib\\site-packages (2.1.4)\n",
      "Requirement already satisfied: scikit-learn in d:\\downloads\\cpe\\semestre9\\projet\\predictia\\data\\predictia_env\\lib\\site-packages (1.3.2)\n",
      "Requirement already satisfied: python-dateutil>=2.8.2 in d:\\downloads\\cpe\\semestre9\\projet\\predictia\\data\\predictia_env\\lib\\site-packages (from pandas) (2.8.2)\n",
      "Requirement already satisfied: pytz>=2020.1 in d:\\downloads\\cpe\\semestre9\\projet\\predictia\\data\\predictia_env\\lib\\site-packages (from pandas) (2023.3.post1)\n",
      "Requirement already satisfied: tzdata>=2022.1 in d:\\downloads\\cpe\\semestre9\\projet\\predictia\\data\\predictia_env\\lib\\site-packages (from pandas) (2023.4)\n",
      "Requirement already satisfied: scipy>=1.5.0 in d:\\downloads\\cpe\\semestre9\\projet\\predictia\\data\\predictia_env\\lib\\site-packages (from scikit-learn) (1.11.4)\n",
      "Requirement already satisfied: joblib>=1.1.1 in d:\\downloads\\cpe\\semestre9\\projet\\predictia\\data\\predictia_env\\lib\\site-packages (from scikit-learn) (1.3.2)\n",
      "Requirement already satisfied: threadpoolctl>=2.0.0 in d:\\downloads\\cpe\\semestre9\\projet\\predictia\\data\\predictia_env\\lib\\site-packages (from scikit-learn) (3.2.0)\n",
      "Requirement already satisfied: six>=1.5 in d:\\downloads\\cpe\\semestre9\\projet\\predictia\\data\\predictia_env\\lib\\site-packages (from python-dateutil>=2.8.2->pandas) (1.16.0)\n"
     ]
    }
   ],
   "source": [
    "#Installation des dépendances en amont si non-présentes dans l'environnement\n",
    "!pip install numpy pandas scikit-learn"
   ]
  },
  {
   "cell_type": "code",
   "execution_count": 2,
   "id": "d9eebe0e-e8bf-4bec-9033-be1e5f15a95f",
   "metadata": {},
   "outputs": [],
   "source": [
    "#Importation des librairies communes (peu prendre du temps)\n",
    "import os\n",
    "import sys\n",
    "import numpy\n",
    "import pandas as pd"
   ]
  },
  {
   "cell_type": "code",
   "execution_count": 133,
   "id": "f137933a-a942-4bcd-834b-b0b33d016cd5",
   "metadata": {},
   "outputs": [],
   "source": [
    "#Chemin menant aux données\n",
    "data_path = os.path.join(os.getcwd(), \"source\")\n",
    "#création du dictionnaire\n",
    "data_dict = dict()"
   ]
  },
  {
   "cell_type": "code",
   "execution_count": 134,
   "id": "c71e6aaf-3109-4843-ac3b-37856f5e2c92",
   "metadata": {},
   "outputs": [
    {
     "data": {
      "text/plain": [
       "dict_keys(['appearances', 'club_games', 'clubs', 'competitions', 'game_events', 'game_lineups', 'games', 'player_valuations', 'players'])"
      ]
     },
     "execution_count": 134,
     "metadata": {},
     "output_type": "execute_result"
    }
   ],
   "source": [
    "# Boucle pour récupérer tous les fichiers CSV dans le dossier et les ajouter au dictionnaire\n",
    "for file in os.listdir(data_path):\n",
    "    if file.endswith(\".csv\"):\n",
    "        file_path = os.path.join(data_path, file)\n",
    "        dict_key = file.split('.')[0]  # Nom du fichier sans l'extension .csv\n",
    "        data_dict[dict_key] = pd.read_csv(file_path)\n",
    "\n",
    "data_dict.keys()"
   ]
  },
  {
   "cell_type": "markdown",
   "id": "2bd3e0a0-dc21-4c19-97d1-bad9941aa1c1",
   "metadata": {},
   "source": [
    "FONCTIONS UTILES"
   ]
  },
  {
   "cell_type": "code",
   "execution_count": 135,
   "id": "3a020c9f-364a-4e35-bad3-c84ad5a368de",
   "metadata": {},
   "outputs": [
    {
     "name": "stdout",
     "output_type": "stream",
     "text": [
      "             date  season  home_club_id  away_club_id  adversaire_id  \\\n",
      "48004  2023-12-20    2023          1041           995            995   \n",
      "63073  2023-12-15    2023           162          1041            162   \n",
      "23752  2023-12-10    2023          1041           415            415   \n",
      "61247  2023-12-06    2023           244          1041            244   \n",
      "63029  2023-12-02    2023           826          1041            826   \n",
      "10271  2023-11-26    2023          1041          1082           1082   \n",
      "30976  2023-11-12    2023           273          1041            273   \n",
      "23465  2023-11-05    2023          1041           347            347   \n",
      "64206  2023-10-22    2023          1041          3524           3524   \n",
      "55478  2023-10-08    2023          1041          1158           1158   \n",
      "\n",
      "            lieu  home_club_goals  away_club_goals  résultat  \n",
      "48004   domicile                1                0  victoire  \n",
      "63073  exterieur                0                1  victoire  \n",
      "23752   domicile                3                0  victoire  \n",
      "61247  exterieur                3                0   défaite  \n",
      "63029  exterieur                3                2   défaite  \n",
      "10271   domicile                0                2   défaite  \n",
      "30976  exterieur                0                1  victoire  \n",
      "23465   domicile                1                1       nul  \n",
      "64206   domicile                1                2   défaite  \n",
      "55478   domicile                3                3       nul  \n"
     ]
    }
   ],
   "source": [
    "def games_of_the_season(df_games, club_id, saison, lieu='tous'):\n",
    "    \"\"\"\n",
    "    Récupère tous les matchs d'une saison pour un club spécifié, ou les 10 derniers matchs si moins de 5 matchs dans la saison.\n",
    "    \n",
    "    Paramètres:\n",
    "    df_games (DataFrame) : DataFrame des matchs.\n",
    "    club_id (int) : ID du club.\n",
    "    saison (str) : Saison à filtrer.\n",
    "    lieu (str) : 'domicile', 'exterieur', ou 'tous' pour filtrer les matchs.\n",
    "    \n",
    "    Retourne:\n",
    "    DataFrame : Les matchs demandés avec les informations détaillées.\n",
    "    \"\"\"\n",
    "    # Filtrage initial par saison et lieu\n",
    "    if lieu == 'domicile':\n",
    "        matchs_du_club = df_games[(df_games['home_club_id'] == club_id) & (df_games['season'] == saison)]\n",
    "    elif lieu == 'exterieur':\n",
    "        matchs_du_club = df_games[(df_games['away_club_id'] == club_id) & (df_games['season'] == saison)]\n",
    "    else:\n",
    "        matchs_du_club = df_games[((df_games['home_club_id'] == club_id) | (df_games['away_club_id'] == club_id)) & (df_games['season'] == saison)]\n",
    "    \n",
    "    # Vérification du nombre de matchs\n",
    "    if len(matchs_du_club) < 5:\n",
    "        # Prendre les 10 derniers matchs toutes saisons confondues si moins de 5 matchs dans la saison\n",
    "        matchs_du_club = df_games[(df_games['home_club_id'] == club_id) | (df_games['away_club_id'] == club_id)]\n",
    "        matchs_du_club = matchs_du_club.sort_values(by='date', ascending=False).head(10)\n",
    "    else:\n",
    "        # Trier par date\n",
    "        matchs_du_club = matchs_du_club.sort_values(by='date', ascending=False)\n",
    "\n",
    "    # Ajout des informations supplémentaires\n",
    "    matchs_du_club['adversaire_id'] = matchs_du_club.apply(lambda row: row['away_club_id'] if row['home_club_id'] == club_id else row['home_club_id'], axis=1)\n",
    "    matchs_du_club['lieu'] = matchs_du_club.apply(lambda row: 'domicile' if row['home_club_id'] == club_id else 'exterieur', axis=1)\n",
    "    matchs_du_club['résultat'] = matchs_du_club.apply(lambda row: 'victoire' if (row['home_club_id'] == club_id and row['home_club_goals'] > row['away_club_goals']) or (row['away_club_id'] == club_id and row['away_club_goals'] > row['home_club_goals']) else 'défaite' if (row['home_club_id'] == club_id and row['home_club_goals'] < row['away_club_goals']) or (row['away_club_id'] == club_id and row['away_club_goals'] < row['home_club_goals']) else 'nul', axis=1)\n",
    "\n",
    "    return matchs_du_club[['date', 'season', 'home_club_id', 'away_club_id', 'adversaire_id', 'lieu', 'home_club_goals', 'away_club_goals', 'résultat']]\n",
    "\n",
    "# Exemple d'utilisation\n",
    "saison_specifique = '2023'  # Remplacez par la saison désirée\n",
    "club_id_specifique = 1041  # OLYMPIQUE LYONNAIS\n",
    "matchs_de_la_saison = games_of_the_season(data_dict['games'], club_id_specifique, saison_specifique, 'tous')\n",
    "print(matchs_de_la_saison)\n"
   ]
  },
  {
   "cell_type": "code",
   "execution_count": 136,
   "id": "9506a74d-5835-49ca-b651-5c34408e0712",
   "metadata": {},
   "outputs": [
    {
     "name": "stdout",
     "output_type": "stream",
     "text": [
      "[4094725, 4094716, 4094708, 4094660, 4094700]\n"
     ]
    }
   ],
   "source": [
    "def last_five_games(df_games, club_id, lieu='tous'):\n",
    "    \"\"\"\n",
    "    Récupère les 5 derniers matchs d'un club spécifié en fonction du lieu du match.\n",
    "    \n",
    "    Paramètres:\n",
    "    df_games (DataFrame) : DataFrame des matchs.\n",
    "    club_id (int) : ID du club.\n",
    "    lieu (str) : 'domicile', 'exterieur', ou 'tous' pour filtrer les matchs.\n",
    "    \n",
    "    Retourne:\n",
    "    Liste : Les identifiants (game_id) des 5 derniers matchs.\n",
    "    \"\"\"\n",
    "    if lieu == 'domicile':\n",
    "        matchs_du_club = df_games[df_games['home_club_id'] == club_id]\n",
    "    elif lieu == 'exterieur':\n",
    "        matchs_du_club = df_games[df_games['away_club_id'] == club_id]\n",
    "    else: # 'tous'\n",
    "        matchs_du_club = df_games[(df_games['home_club_id'] == club_id) | (df_games['away_club_id'] == club_id)]\n",
    "    \n",
    "    matchs_du_club = matchs_du_club.sort_values(by='date', ascending=False).head(5)\n",
    "    return matchs_du_club['game_id'].tolist()\n",
    "\n",
    "# Exemple d'utilisation\n",
    "club_id_specifique = 1041  # OLYMPIQUE LYONNAIS\n",
    "derniers_game_ids = last_five_games(data_dict['games'], club_id_specifique, 'tous') # 'domicile', 'exterieur' ou 'tous'\n",
    "print(derniers_game_ids)"
   ]
  },
  {
   "cell_type": "code",
   "execution_count": 262,
   "id": "88aa66e0-efa1-444e-ad48-d82ebf5b2232",
   "metadata": {},
   "outputs": [
    {
     "name": "stdout",
     "output_type": "stream",
     "text": [
      "ID du dernier match de l'équipe 1041 : 4094725\n"
     ]
    }
   ],
   "source": [
    "#last game id \n",
    "def last_game_id(df_games, club_id):\n",
    "    \"\"\"\n",
    "    Récupère l'ID du dernier match joué par un club spécifié.\n",
    "\n",
    "    Paramètres:\n",
    "    df_games (DataFrame) : DataFrame des matchs.\n",
    "    club_id (int) : ID du club.\n",
    "\n",
    "    Retourne:\n",
    "    int : ID du dernier match joué par le club.\n",
    "    \"\"\"\n",
    "    # Filtrer les matchs impliquant le club\n",
    "    matchs_du_club = df_games[(df_games['home_club_id'] == club_id) | (df_games['away_club_id'] == club_id)]\n",
    "    \n",
    "    # Trier par date en ordre décroissant et prendre le premier match\n",
    "    dernier_match = matchs_du_club.sort_values(by='date', ascending=False).iloc[0]\n",
    "\n",
    "    return dernier_match['game_id']\n",
    "\n",
    "# Exemple d'utilisation\n",
    "club_id_specifique = 1041  # Remplacez par l'ID du club désiré\n",
    "dernier_match_id = last_game_id(df_games, club_id_specifique)\n",
    "print(\"ID du dernier match de l'équipe\", club_id_specifique, \":\", dernier_match_id)\n"
   ]
  },
  {
   "cell_type": "code",
   "execution_count": 277,
   "id": "f83d084f-ba32-42d4-a73a-be0693559422",
   "metadata": {},
   "outputs": [
    {
     "name": "stdout",
     "output_type": "stream",
     "text": [
      "[855134, 655006, 395237, 131225, 93720, 607223, 955070, 711544, 37838, 60561, 187718, 325223, 802986, 910905, 238266, 204072, 951579, 429901, 1053147, 384060]\n"
     ]
    }
   ],
   "source": [
    "def match_sheet(df_game_lineups, match_id, club_id):\n",
    "    \"\"\"\n",
    "    Récupère tous les player_id qui ont participé à un match spécifique pour un club donné.\n",
    "    \n",
    "    Paramètres:\n",
    "    df_game_lineups (DataFrame) : DataFrame des compositions d'équipe.\n",
    "    match_id (int) : ID du match.\n",
    "    club_id (int) : ID du club.\n",
    "    \n",
    "    Retourne:\n",
    "    Liste : Les identifiants (player_id) des joueurs qui ont participé au match.\n",
    "    \"\"\"\n",
    "    # Filtrer pour obtenir les lignes correspondant au match_id et club_id spécifiés\n",
    "    lineup_du_match = df_game_lineups[(df_game_lineups['game_id'] == match_id) & (df_game_lineups['club_id'] == club_id)]\n",
    "    \n",
    "    # Récupérer les player_id\n",
    "    joueurs = lineup_du_match['player_id'].tolist()\n",
    "\n",
    "    return joueurs\n",
    "\n",
    "# Exemple d'utilisation\n",
    "match_id_specifique = 4094700\n",
    "club_id_specifique = 1041  # OLYMPIQUE LYONNAIS\n",
    "joueurs_participes = match_sheet(data_dict['game_lineups'], match_id_specifique, club_id_specifique)\n",
    "print(joueurs_participes)"
   ]
  },
  {
   "cell_type": "code",
   "execution_count": 345,
   "id": "0a753cf3-acf0-475e-8358-ab809ef5f7f3",
   "metadata": {},
   "outputs": [
    {
     "name": "stdout",
     "output_type": "stream",
     "text": [
      "[855134, 655006, 395237, 131225, 93720, 607223, 955070, 711544, 37838, 60561, 187718]\n"
     ]
    }
   ],
   "source": [
    "def starting_lineup_match(match_id, club_id):\n",
    "    \"\"\"\n",
    "    Récupère les player_id des joueurs qui étaient dans la composition de départ d'un match spécifique pour un club donné.\n",
    "    \n",
    "    Paramètres:\n",
    "    df_game_lineups (DataFrame) : DataFrame des compositions d'équipe.\n",
    "    match_id (int) : ID du match.\n",
    "    club_id (int) : ID du club.\n",
    "    \n",
    "    Retourne:\n",
    "    Liste : Les identifiants (player_id) des joueurs de la composition de départ.\n",
    "    \"\"\"\n",
    "    df_game_lineups = data_dict['game_lineups']\n",
    "    # Filtrer pour obtenir les lignes correspondant au match_id, club_id et type 'starting_lineup'\n",
    "    lineup_du_match = df_game_lineups[(df_game_lineups['game_id'] == match_id) & \n",
    "                                      (df_game_lineups['club_id'] == club_id) & \n",
    "                                      (df_game_lineups['type'] == 'starting_lineup')]\n",
    "    \n",
    "    # Récupérer les player_id\n",
    "    joueurs = lineup_du_match['player_id'].tolist()\n",
    "\n",
    "    return joueurs\n",
    "\n",
    "# Exemple d'utilisation\n",
    "match_id_specifique = 4094700  # Remplacez par l'ID du match désiré\n",
    "club_id_specifique = 1041  # OLYMPIQUE LYONNAIS\n",
    "joueurs_titulaires = starting_lineup_match(match_id_specifique, club_id_specifique)\n",
    "print(joueurs_titulaires)"
   ]
  },
  {
   "cell_type": "code",
   "execution_count": 346,
   "id": "07294fd4-8b8b-4dc9-a547-87e09668daeb",
   "metadata": {},
   "outputs": [
    {
     "name": "stdout",
     "output_type": "stream",
     "text": [
      "150000\n"
     ]
    }
   ],
   "source": [
    "def market_value_player(df_player, player_id):\n",
    "    \"\"\"\n",
    "    Récupère la valeur marchande d'un joueur spécifié.\n",
    "    \n",
    "    Paramètres:\n",
    "    df_player_valuations (DataFrame) : DataFrame des évaluations des joueurs.\n",
    "    player_id (int) : ID du joueur.\n",
    "    \n",
    "    Retourne:\n",
    "    float : La valeur marchande du joueur en euros.\n",
    "    \"\"\"\n",
    "    # Trouver l'entrée correspondant au player_id\n",
    "    valeur_joueur = df_player[df_player['player_id'] == player_id]['market_value_in_eur']\n",
    "\n",
    "    # Retourner la valeur marchande, ou None si le joueur n'est pas trouvé\n",
    "    return valeur_joueur.iloc[0] if not valeur_joueur.empty else None\n",
    "\n",
    "# Exemple d'utilisation\n",
    "player_id_specifique = 955070  # Remplacez par l'ID du joueur désiré\n",
    "valeur_marchande = market_value_player(data_dict['player_valuations'], player_id_specifique)\n",
    "print(valeur_marchande)"
   ]
  },
  {
   "cell_type": "code",
   "execution_count": 347,
   "id": "ce1cabf4-0f45-41ad-b528-28540e8642ae",
   "metadata": {},
   "outputs": [
    {
     "name": "stdout",
     "output_type": "stream",
     "text": [
      "Valeur marchande moyenne de l'équipe : 9090909.090909092\n",
      "Somme des valeurs marchandes de l'équipe : 100000000.0\n"
     ]
    }
   ],
   "source": [
    "def mean_team_value(df_player, liste_player_id):\n",
    "    \"\"\"\n",
    "    Calcule la valeur marchande moyenne d'une équipe.\n",
    "    \n",
    "    Paramètres:\n",
    "    df_player_valuations (DataFrame) : DataFrame des évaluations des joueurs.\n",
    "    liste_player_id (List[int]) : Liste des ID des joueurs.\n",
    "    \n",
    "    Retourne:\n",
    "    float : Valeur marchande moyenne de l'équipe.\n",
    "    \"\"\"\n",
    "    valeurs = [market_value_player(df_player, player_id) for player_id in liste_player_id]\n",
    "    valeurs = [v for v in valeurs if v is not None]  # Exclure les valeurs None\n",
    "    return sum(valeurs) / len(valeurs) if valeurs else 0\n",
    "\n",
    "def sum_team_value(df_player, liste_player_id):\n",
    "    \"\"\"\n",
    "    Calcule la somme des valeurs marchandes d'une équipe.\n",
    "    \n",
    "    Paramètres:\n",
    "    df_player_valuations (DataFrame) : DataFrame des évaluations des joueurs.\n",
    "    liste_player_id (List[int]) : Liste des ID des joueurs.\n",
    "    \n",
    "    Retourne:\n",
    "    float : Somme des valeurs marchandes de l'équipe.\n",
    "    \"\"\"\n",
    "    valeurs = [market_value_player(df_player, player_id) for player_id in liste_player_id]\n",
    "    valeurs = [v for v in valeurs if v is not None]  # Exclure les valeurs None\n",
    "    return sum(valeurs)\n",
    "\n",
    "# Exemple d'utilisation\n",
    "liste_player_id = [855134, 655006, 395237, 131225, 93720, 607223, 955070, 711544, 37838, 60561, 187718] \n",
    "moyenne_valeur_marchande = mean_team_value(data_dict['players'], liste_player_id)\n",
    "somme_valeur_marchande = sum_team_value(data_dict['players'], liste_player_id)\n",
    "\n",
    "print(\"Valeur marchande moyenne de l'équipe :\", moyenne_valeur_marchande)\n",
    "print(\"Somme des valeurs marchandes de l'équipe :\", somme_valeur_marchande)"
   ]
  },
  {
   "cell_type": "markdown",
   "id": "29e7eb73-16b8-4df1-830b-3dd2b5f06ef3",
   "metadata": {},
   "source": [
    "CREATION DU MODEL"
   ]
  },
  {
   "cell_type": "code",
   "execution_count": 336,
   "id": "0c5851c2-7e6a-4098-a3db-04ab5cadfa1d",
   "metadata": {},
   "outputs": [],
   "source": [
    "#Configurations et imports\n",
    "from sklearn.model_selection import train_test_split\n",
    "from sklearn.ensemble import RandomForestClassifier\n",
    "from sklearn.metrics import accuracy_score"
   ]
  },
  {
   "cell_type": "code",
   "execution_count": 348,
   "id": "df0d7eb3-df4d-4f3c-b3fb-7965cd04c428",
   "metadata": {},
   "outputs": [],
   "source": [
    "#pour cette première etape, on se base sur la forme de l'équipe et la valeur marchande des joueurs (indicatif de la qualité du joueur)\n",
    "def calculer_forme(df_games, club_id, type):\n",
    "    \"\"\"Calcule la forme d'un club sur ses n derniers matchs avant la date du match.\"\"\"\n",
    "    # Filtrer les matchs précédents et trier par date\n",
    "    matchs_precedents = games_of_the_season(df_games, club_id, 2022, type)\n",
    "    \n",
    "    # Calculer les points (exemple simplifié)\n",
    "    points = 0\n",
    "    for _, row in matchs_precedents.iterrows():\n",
    "        if row['home_club_id'] == club_id:\n",
    "            points += 3 if row['home_club_goals'] > row['away_club_goals'] else 1 if row['home_club_goals'] == row['away_club_goals'] else 0\n",
    "        else:\n",
    "            points += 3 if row['away_club_goals'] > row['home_club_goals'] else 1 if row['away_club_goals'] == row['home_club_goals'] else 0\n",
    "    \n",
    "    return points"
   ]
  },
  {
   "cell_type": "code",
   "execution_count": 350,
   "id": "d235e7ae-5a79-40ab-a3d7-142ba7175b08",
   "metadata": {},
   "outputs": [
    {
     "data": {
      "text/html": [
       "<div>\n",
       "<style scoped>\n",
       "    .dataframe tbody tr th:only-of-type {\n",
       "        vertical-align: middle;\n",
       "    }\n",
       "\n",
       "    .dataframe tbody tr th {\n",
       "        vertical-align: top;\n",
       "    }\n",
       "\n",
       "    .dataframe thead th {\n",
       "        text-align: right;\n",
       "    }\n",
       "</style>\n",
       "<table border=\"1\" class=\"dataframe\">\n",
       "  <thead>\n",
       "    <tr style=\"text-align: right;\">\n",
       "      <th></th>\n",
       "      <th>game_id</th>\n",
       "      <th>competition_id</th>\n",
       "      <th>season</th>\n",
       "      <th>round</th>\n",
       "      <th>date</th>\n",
       "      <th>home_club_id</th>\n",
       "      <th>away_club_id</th>\n",
       "      <th>home_club_goals</th>\n",
       "      <th>away_club_goals</th>\n",
       "      <th>home_club_position</th>\n",
       "      <th>...</th>\n",
       "      <th>stadium</th>\n",
       "      <th>attendance</th>\n",
       "      <th>referee</th>\n",
       "      <th>url</th>\n",
       "      <th>home_club_formation</th>\n",
       "      <th>away_club_formation</th>\n",
       "      <th>home_club_name</th>\n",
       "      <th>away_club_name</th>\n",
       "      <th>aggregate</th>\n",
       "      <th>competition_type</th>\n",
       "    </tr>\n",
       "  </thead>\n",
       "  <tbody>\n",
       "    <tr>\n",
       "      <th>2842</th>\n",
       "      <td>4087952</td>\n",
       "      <td>GB1</td>\n",
       "      <td>2023</td>\n",
       "      <td>3. Matchday</td>\n",
       "      <td>2023-08-27</td>\n",
       "      <td>762</td>\n",
       "      <td>31</td>\n",
       "      <td>1</td>\n",
       "      <td>2</td>\n",
       "      <td>13.0</td>\n",
       "      <td>...</td>\n",
       "      <td>St James' Park</td>\n",
       "      <td>52214.0</td>\n",
       "      <td>John Brooks</td>\n",
       "      <td>https://www.transfermarkt.co.uk/newcastle-unit...</td>\n",
       "      <td>4-3-3 Attacking</td>\n",
       "      <td>4-3-3 Attacking</td>\n",
       "      <td>Newcastle United Football Club</td>\n",
       "      <td>Liverpool Football Club</td>\n",
       "      <td>1:2</td>\n",
       "      <td>domestic_league</td>\n",
       "    </tr>\n",
       "    <tr>\n",
       "      <th>2843</th>\n",
       "      <td>4087962</td>\n",
       "      <td>GB1</td>\n",
       "      <td>2023</td>\n",
       "      <td>4. Matchday</td>\n",
       "      <td>2023-09-02</td>\n",
       "      <td>281</td>\n",
       "      <td>931</td>\n",
       "      <td>5</td>\n",
       "      <td>1</td>\n",
       "      <td>1.0</td>\n",
       "      <td>...</td>\n",
       "      <td>Etihad Stadium</td>\n",
       "      <td>52899.0</td>\n",
       "      <td>Michael Oliver</td>\n",
       "      <td>https://www.transfermarkt.co.uk/manchester-cit...</td>\n",
       "      <td>4-2-3-1</td>\n",
       "      <td>4-3-3 Attacking</td>\n",
       "      <td>Manchester City Football Club</td>\n",
       "      <td>Fulham Football Club</td>\n",
       "      <td>5:1</td>\n",
       "      <td>domestic_league</td>\n",
       "    </tr>\n",
       "    <tr>\n",
       "      <th>2844</th>\n",
       "      <td>4087965</td>\n",
       "      <td>GB1</td>\n",
       "      <td>2023</td>\n",
       "      <td>5. Matchday</td>\n",
       "      <td>2023-09-16</td>\n",
       "      <td>405</td>\n",
       "      <td>873</td>\n",
       "      <td>3</td>\n",
       "      <td>1</td>\n",
       "      <td>7.0</td>\n",
       "      <td>...</td>\n",
       "      <td>Villa Park</td>\n",
       "      <td>40809.0</td>\n",
       "      <td>Darren England</td>\n",
       "      <td>https://www.transfermarkt.co.uk/aston-villa_cr...</td>\n",
       "      <td>4-2-3-1</td>\n",
       "      <td>4-4-1-1</td>\n",
       "      <td>Aston Villa Football Club</td>\n",
       "      <td>Crystal Palace Football Club</td>\n",
       "      <td>3:1</td>\n",
       "      <td>domestic_league</td>\n",
       "    </tr>\n",
       "    <tr>\n",
       "      <th>2854</th>\n",
       "      <td>4094596</td>\n",
       "      <td>FR1</td>\n",
       "      <td>2023</td>\n",
       "      <td>3. Matchday</td>\n",
       "      <td>2023-08-26</td>\n",
       "      <td>583</td>\n",
       "      <td>826</td>\n",
       "      <td>3</td>\n",
       "      <td>1</td>\n",
       "      <td>8.0</td>\n",
       "      <td>...</td>\n",
       "      <td>Parc des Princes</td>\n",
       "      <td>47000.0</td>\n",
       "      <td>François Letexier</td>\n",
       "      <td>https://www.transfermarkt.co.uk/paris-saint-ge...</td>\n",
       "      <td>4-3-3 Attacking</td>\n",
       "      <td>3-4-2-1</td>\n",
       "      <td>Paris Saint-Germain Football Club</td>\n",
       "      <td>Racing Club de Lens</td>\n",
       "      <td>3:1</td>\n",
       "      <td>domestic_league</td>\n",
       "    </tr>\n",
       "    <tr>\n",
       "      <th>2855</th>\n",
       "      <td>4094622</td>\n",
       "      <td>FR1</td>\n",
       "      <td>2023</td>\n",
       "      <td>5. Matchday</td>\n",
       "      <td>2023-09-16</td>\n",
       "      <td>826</td>\n",
       "      <td>347</td>\n",
       "      <td>0</td>\n",
       "      <td>1</td>\n",
       "      <td>18.0</td>\n",
       "      <td>...</td>\n",
       "      <td>Stade Bollaert-Delelis</td>\n",
       "      <td>37988.0</td>\n",
       "      <td>Stéphanie Frappart</td>\n",
       "      <td>https://www.transfermarkt.co.uk/rc-lens_fc-met...</td>\n",
       "      <td>3-4-2-1</td>\n",
       "      <td>4-3-3 Attacking</td>\n",
       "      <td>Racing Club de Lens</td>\n",
       "      <td>Football Club de Metz</td>\n",
       "      <td>0:1</td>\n",
       "      <td>domestic_league</td>\n",
       "    </tr>\n",
       "  </tbody>\n",
       "</table>\n",
       "<p>5 rows × 23 columns</p>\n",
       "</div>"
      ],
      "text/plain": [
       "      game_id competition_id  season        round        date  home_club_id  \\\n",
       "2842  4087952            GB1    2023  3. Matchday  2023-08-27           762   \n",
       "2843  4087962            GB1    2023  4. Matchday  2023-09-02           281   \n",
       "2844  4087965            GB1    2023  5. Matchday  2023-09-16           405   \n",
       "2854  4094596            FR1    2023  3. Matchday  2023-08-26           583   \n",
       "2855  4094622            FR1    2023  5. Matchday  2023-09-16           826   \n",
       "\n",
       "      away_club_id  home_club_goals  away_club_goals  home_club_position  ...  \\\n",
       "2842            31                1                2                13.0  ...   \n",
       "2843           931                5                1                 1.0  ...   \n",
       "2844           873                3                1                 7.0  ...   \n",
       "2854           826                3                1                 8.0  ...   \n",
       "2855           347                0                1                18.0  ...   \n",
       "\n",
       "                     stadium attendance             referee  \\\n",
       "2842          St James' Park    52214.0         John Brooks   \n",
       "2843          Etihad Stadium    52899.0      Michael Oliver   \n",
       "2844              Villa Park    40809.0      Darren England   \n",
       "2854        Parc des Princes    47000.0   François Letexier   \n",
       "2855  Stade Bollaert-Delelis    37988.0  Stéphanie Frappart   \n",
       "\n",
       "                                                    url  home_club_formation  \\\n",
       "2842  https://www.transfermarkt.co.uk/newcastle-unit...      4-3-3 Attacking   \n",
       "2843  https://www.transfermarkt.co.uk/manchester-cit...              4-2-3-1   \n",
       "2844  https://www.transfermarkt.co.uk/aston-villa_cr...              4-2-3-1   \n",
       "2854  https://www.transfermarkt.co.uk/paris-saint-ge...      4-3-3 Attacking   \n",
       "2855  https://www.transfermarkt.co.uk/rc-lens_fc-met...              3-4-2-1   \n",
       "\n",
       "     away_club_formation                     home_club_name  \\\n",
       "2842     4-3-3 Attacking     Newcastle United Football Club   \n",
       "2843     4-3-3 Attacking      Manchester City Football Club   \n",
       "2844             4-4-1-1          Aston Villa Football Club   \n",
       "2854             3-4-2-1  Paris Saint-Germain Football Club   \n",
       "2855     4-3-3 Attacking                Racing Club de Lens   \n",
       "\n",
       "                    away_club_name aggregate competition_type  \n",
       "2842       Liverpool Football Club       1:2  domestic_league  \n",
       "2843          Fulham Football Club       5:1  domestic_league  \n",
       "2844  Crystal Palace Football Club       3:1  domestic_league  \n",
       "2854           Racing Club de Lens       3:1  domestic_league  \n",
       "2855         Football Club de Metz       0:1  domestic_league  \n",
       "\n",
       "[5 rows x 23 columns]"
      ]
     },
     "execution_count": 350,
     "metadata": {},
     "output_type": "execute_result"
    }
   ],
   "source": [
    "#on travaille seulement sur la saison 2022 pour eviter les traitements inutiles\n",
    "#matchs_2023 = data_dict[\"games\"][data_dict[\"games\"]['season'] == 2023]\n",
    "# Supposons que 'data_dict[\"games\"]' est votre DataFrame de matchs\n",
    "df_games = data_dict[\"games\"]\n",
    "\n",
    "# Filtrer pour obtenir les matchs de la saison 2022 et des compétitions spécifiées\n",
    "competitions_ids = ['FR1', 'ES1', 'IT1', 'L1', 'GB1'] #5 grands championnats\n",
    "matchs_2022 = df_games[(df_games['season'] == 2023) & (df_games['competition_id'].isin(competitions_ids))]\n",
    "\n",
    "matchs_2022.head()"
   ]
  },
  {
   "cell_type": "code",
   "execution_count": 382,
   "id": "f9a2d978-da21-4f27-8486-a281cf71c8e9",
   "metadata": {},
   "outputs": [],
   "source": [
    "# Création des caractéristiques pour chaque match\n",
    "features = []\n",
    "labels = []\n",
    "df_games = data_dict[\"games\"]\n",
    "df_games_22 = matchs_2022.head(1000)\n",
    "df_game_lineup = data_dict[\"game_lineups\"]\n",
    "df_player_valuations = data_dict[\"players\"]\n",
    "\n",
    "for _, row in df_games_22.iterrows():\n",
    "    home_forme = calculer_forme(df_games_22, row['home_club_id'], \"domicile\")\n",
    "    away_forme = calculer_forme(df_games_22, row['away_club_id'], \"exterieur\")\n",
    "    home_valeur_marchande = mean_team_value(df_player_valuations, starting_lineup_match(row[\"game_id\"], row['home_club_id']))\n",
    "    away_valeur_marchande = mean_team_value(df_player_valuations, starting_lineup_match(row[\"game_id\"], row['away_club_id'])) \n",
    "    \n",
    "    features.append([home_forme, away_forme, home_valeur_marchande, away_valeur_marchande])\n",
    "    \n",
    "    # Créer le label\n",
    "    if row['home_club_goals'] > row['away_club_goals']:\n",
    "        labels.append(1)\n",
    "    elif row['home_club_goals'] < row['away_club_goals']:\n",
    "        labels.append(-1)\n",
    "    else:\n",
    "        labels.append(0)\n",
    "\n",
    "# Convertir en DataFrame pour l'utilisation avec des modèles de machine learning\n",
    "df_features = pd.DataFrame(features, columns=['home_forme', 'away_forme', 'home_valeur_marchande', 'away_valeur_marchande'])\n",
    "df_labels = pd.Series(labels)"
   ]
  },
  {
   "cell_type": "code",
   "execution_count": 383,
   "id": "87ddf92f-4609-40ec-8de9-31caad9686ae",
   "metadata": {},
   "outputs": [
    {
     "name": "stdout",
     "output_type": "stream",
     "text": [
      "0     -1\n",
      "1      1\n",
      "2      1\n",
      "3      1\n",
      "4     -1\n",
      "      ..\n",
      "858    1\n",
      "859    1\n",
      "860   -1\n",
      "861    0\n",
      "862    0\n",
      "Length: 863, dtype: int64\n",
      "     home_forme  away_forme  home_valeur_marchande  away_valeur_marchande\n",
      "0            12          22           3.754545e+07           4.727273e+07\n",
      "1            19          12           7.345455e+07           1.272727e+07\n",
      "2            20           9           3.854545e+07           1.827273e+07\n",
      "3            28          19           6.181818e+07           1.113636e+07\n",
      "4            19           8           1.172727e+07           2.090909e+06\n",
      "..          ...         ...                    ...                    ...\n",
      "858          19          14           7.427273e+07           1.831818e+07\n",
      "859          11           2           1.259091e+07           5.272727e+06\n",
      "860          10           7           5.163636e+06           1.290909e+07\n",
      "861           8          10           1.495455e+07           3.709091e+06\n",
      "862           8          13           1.368182e+07           6.381818e+06\n",
      "\n",
      "[863 rows x 4 columns]\n"
     ]
    }
   ],
   "source": [
    "print(df_labels)\n",
    "print(df_features)"
   ]
  },
  {
   "cell_type": "code",
   "execution_count": 384,
   "id": "36419ea9-481b-495a-8ce5-3f7d0adff22d",
   "metadata": {},
   "outputs": [
    {
     "data": {
      "text/plain": [
       "0     -1\n",
       "1      1\n",
       "2      1\n",
       "3      1\n",
       "4     -1\n",
       "      ..\n",
       "858    1\n",
       "859    1\n",
       "860   -1\n",
       "861    0\n",
       "862    0\n",
       "Length: 857, dtype: int64"
      ]
     },
     "execution_count": 384,
     "metadata": {},
     "output_type": "execute_result"
    }
   ],
   "source": [
    "# Supprimer les lignes contenant des valeurs NaN\n",
    "df_features_clean = df_features.dropna()\n",
    "df_labels_clean = df_labels[df_features_clean.index]\n",
    "df_features_clean\n",
    "df_labels_clean"
   ]
  },
  {
   "cell_type": "markdown",
   "id": "c7be79ad-a2ed-49c5-b592-6a4b176f8c3f",
   "metadata": {},
   "source": [
    "EN UTILISANT UNE REGRESSION LOGISTIQUE"
   ]
  },
  {
   "cell_type": "code",
   "execution_count": 385,
   "id": "76ebe6aa-7fb1-415f-810f-34106bcc10ec",
   "metadata": {},
   "outputs": [
    {
     "name": "stdout",
     "output_type": "stream",
     "text": [
      "Accuracy: 0.5406976744186046\n"
     ]
    }
   ],
   "source": [
    "from sklearn.model_selection import train_test_split\n",
    "from sklearn.linear_model import LogisticRegression\n",
    "from sklearn.metrics import accuracy_score\n",
    "\n",
    "# Division des données en ensembles d'entraînement et de test\n",
    "X_train, X_test, y_train, y_test = train_test_split(df_features_clean, df_labels_clean, test_size=0.2, random_state=42)\n",
    "\n",
    "# Création et entraînement du modèle\n",
    "model = LogisticRegression()\n",
    "model.fit(X_train, y_train)\n",
    "\n",
    "# Évaluation du modèle\n",
    "predictions = model.predict(X_test)\n",
    "print(\"Accuracy:\", accuracy_score(y_test, predictions))"
   ]
  },
  {
   "cell_type": "code",
   "execution_count": 411,
   "id": "9e1d86e5-a12f-4b73-9866-1fc512700bdd",
   "metadata": {},
   "outputs": [
    {
     "name": "stdout",
     "output_type": "stream",
     "text": [
      "    home_club_id  away_club_id   prob_-1    prob_0    prob_1\n",
      "0           1041           583  0.806274  0.142153  0.051573\n",
      "1           1041          3524  0.236318  0.302278  0.461404\n",
      "2            583          3524  0.005523  0.045264  0.949213\n",
      "3           1041           162  0.375032  0.299701  0.325268\n",
      "4            162          1041  0.209172  0.276127  0.514701\n",
      "5            418          3302  0.004068  0.037322  0.958610\n",
      "6            418         12321  0.006718  0.045769  0.947513\n",
      "7             31           281  0.342739  0.201289  0.455972\n",
      "8            281            31  0.043998  0.094290  0.861711\n",
      "9            418           281  0.121114  0.134222  0.744664\n",
      "10           281           418  0.109497  0.128779  0.761724\n"
     ]
    }
   ],
   "source": [
    "def calculer_probabilites_victoire(df_games, df_players, model, liste_matchs):\n",
    "    \"\"\"\n",
    "    Calcule les probabilités de victoire pour une liste de matchs.\n",
    "    \n",
    "    Paramètres:\n",
    "    df_games (DataFrame) : DataFrame des matchs.\n",
    "    df_players (DataFrame) : DataFrame des joueurs et de leurs valeurs marchandes.\n",
    "    model (Model) : Modèle de machine learning entraîné.\n",
    "    liste_matchs (List[Tuple[int, int]]) : Liste de tuples (home_club_id, away_club_id).\n",
    "    \n",
    "    Retourne:\n",
    "    DataFrame : Probabilités de victoire pour chaque match.\n",
    "    \"\"\"\n",
    "    # Liste pour stocker les caractéristiques de chaque match\n",
    "    features_list = []\n",
    "    \n",
    "    # Préparer les caractéristiques pour chaque match\n",
    "    for home_club_id, away_club_id in liste_matchs:\n",
    "        home_forme = calculer_forme(df_games, home_club_id, \"domicile\")\n",
    "        away_forme = calculer_forme(df_games, away_club_id, \"exterieur\")\n",
    "        home_valeur_marchande = mean_team_value(df_players, starting_lineup_match(last_game_id(df_games, home_club_id), home_club_id))\n",
    "        away_valeur_marchande = mean_team_value(df_players, starting_lineup_match(last_game_id(df_games, away_club_id), away_club_id))\n",
    "        \n",
    "        # Ajouter les caractéristiques pour le match courant à la liste\n",
    "        features_list.append([home_club_id, away_club_id, home_forme, away_forme, home_valeur_marchande, away_valeur_marchande])\n",
    "    \n",
    "    # Créer un DataFrame avec toutes les caractéristiques\n",
    "    df_features = pd.DataFrame(features_list, columns=['home_club_id', 'away_club_id', 'home_forme', 'away_forme', 'home_valeur_marchande', 'away_valeur_marchande'])\n",
    "    \n",
    "   # Préparer les caractéristiques pour la prédiction\n",
    "    match_features = df_features[['home_forme', 'away_forme', 'home_valeur_marchande', 'away_valeur_marchande']]\n",
    "    \n",
    "    # Prédiction des probabilités avec le modèle pour chaque match\n",
    "    probas = model.predict_proba(match_features)\n",
    "    \n",
    "    # Ajouter toutes les probabilités prédites au DataFrame\n",
    "    for i, class_label in enumerate(model.classes_):\n",
    "        df_features[f'prob_{class_label}'] = probas[:, i]\n",
    "    \n",
    "    # Sélectionner uniquement les colonnes 'home_club_id', 'away_club_id', et celles qui commencent par 'prob_'\n",
    "    df_probabilites = df_features.filter(regex='^(home_club_id|away_club_id|prob_)')\n",
    "    \n",
    "    return df_probabilites\n",
    "\n",
    "# Liste des matchs sous forme de tuples (home_club_id, away_club_id)\n",
    "liste_matchs = [(1041, 583), (1041, 3524), (583, 3524), (1041, 162), (162, 1041), (418, 3302), (418, 12321), (31, 281), (281, 31), (418, 281), (281, 418)]  # Ajoutez d'autres matchs comme nécessaire\n",
    "\n",
    "# Appel de la fonction et impression des résultats\n",
    "df_probabilites = calculer_probabilites_victoire(df_games, df_players, model, liste_matchs)\n",
    "print(df_probabilites)"
   ]
  },
  {
   "cell_type": "code",
   "execution_count": 410,
   "id": "89c3530f-2e55-41e2-b90b-649bd62f6119",
   "metadata": {},
   "outputs": [
    {
     "data": {
      "text/plain": [
       "'\\n1041 = OL\\n583 = PSG\\n3524 = Clermont\\n162 = Monaco\\n418 = Real Madrid\\n3302 = Almeria\\n12321 = Girona\\n31 = Liverpool\\n281 = ManchesterCity\\n'"
      ]
     },
     "execution_count": 410,
     "metadata": {},
     "output_type": "execute_result"
    }
   ],
   "source": [
    "\"\"\"\n",
    "1041 = OL\n",
    "583 = PSG\n",
    "3524 = Clermont\n",
    "162 = Monaco\n",
    "418 = Real Madrid\n",
    "3302 = Almeria\n",
    "12321 = Girona\n",
    "31 = Liverpool\n",
    "281 = ManchesterCity\n",
    "\"\"\""
   ]
  },
  {
   "cell_type": "code",
   "execution_count": null,
   "id": "2aa9fa51-9a9a-4eeb-b18c-862b36bd9c77",
   "metadata": {},
   "outputs": [],
   "source": []
  }
 ],
 "metadata": {
  "kernelspec": {
   "display_name": "Python 3 (ipykernel)",
   "language": "python",
   "name": "python3"
  },
  "language_info": {
   "codemirror_mode": {
    "name": "ipython",
    "version": 3
   },
   "file_extension": ".py",
   "mimetype": "text/x-python",
   "name": "python",
   "nbconvert_exporter": "python",
   "pygments_lexer": "ipython3",
   "version": "3.12.0"
  }
 },
 "nbformat": 4,
 "nbformat_minor": 5
}
